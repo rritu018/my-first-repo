{
 "cells": [
  {
   "cell_type": "code",
   "execution_count": 2,
   "metadata": {},
   "outputs": [
    {
     "name": "stdout",
     "output_type": "stream",
     "text": [
      "Hello, Welcome!\n",
      "hi how are you ?\n",
      "hi\thow\tare\tyou\t?\n",
      "hi\n",
      "how\n",
      "are\n",
      "you?\n",
      "\u001b[95m Hello, \u001b[96mPython\n",
      "Hello, welcome!\n",
      "Hi, How are you?\n"
     ]
    }
   ],
   "source": [
    "# Print statement\n",
    "print(\"Hello, Welcome!\")\n",
    "\n",
    "print(\"hi\",\"how\",\"are\",\"you\",\"?\")\n",
    "\n",
    "print(\"hi\\thow\\tare\\tyou\\t?\")\n",
    "#\\t is used for tab space in python\n",
    "print(\"hi\\nhow\\nare\\nyou?\")\n",
    "#\\n is used for next line\n",
    "print(\"\\033[95m Hello, \\033[96mPython\")\n",
    "#Press cmd+/ for commenting out selected lines in vs code\n",
    "print(\"Hello, welcome!\\nHi, How are you?\")"
   ]
  },
  {
   "cell_type": "code",
   "execution_count": 3,
   "metadata": {},
   "outputs": [
    {
     "name": "stdout",
     "output_type": "stream",
     "text": [
      "30\n",
      "x+y= 30\n",
      "x-y= -10\n",
      "10 + 20 = 30\n",
      "10+20=30\n",
      "\u001b[93m10+20=30\n",
      "x/y= 0.6666666666666666\n",
      "x/y=0\n",
      "x/y=0.666667\n",
      "x/y=0.67\n",
      "x/y=0.667\n"
     ]
    }
   ],
   "source": [
    "#NOW Some Mathematical Operations\n",
    "x=10\n",
    "y=20\n",
    "print(x+y)\n",
    "print(\"x+y=\",x+y)\n",
    "print(\"x-y=\",x-y)\n",
    "print(x,\"+\",y,\"=\",x+y)\n",
    "print(f\"{x}+{y}={x+y}\")\n",
    "print(f\"\\033[93m{x}+{y}={x+y}\")\n",
    "\n",
    "\n",
    "x=2\n",
    "y=3\n",
    "print(\"x/y=\",x/y)\n",
    "print(\"x/y=%d\"%(x/y))\n",
    "print(\"x/y=%f\"%(x/y))\n",
    "print(\"x/y=%.2f\"%(x/y))\n",
    "print(\"x/y=%.3f\"%(x/y))\n"
   ]
  },
  {
   "cell_type": "code",
   "execution_count": 4,
   "metadata": {},
   "outputs": [
    {
     "name": "stdout",
     "output_type": "stream",
     "text": [
      "<class 'int'>\n",
      "<class 'float'>\n",
      "<class 'complex'>\n",
      "<class 'str'>\n",
      "<class 'list'>\n"
     ]
    }
   ],
   "source": [
    "#Frequently used data types\n",
    "a=10\n",
    "b=2.\n",
    "c=2+3j\n",
    "d=\"23\"\n",
    "e=[2,3,4]\n",
    "print(type(a))\n",
    "print(type(b))\n",
    "print(type(c))\n",
    "print(type(d))\n",
    "print(type(e))"
   ]
  },
  {
   "cell_type": "code",
   "execution_count": 1,
   "metadata": {},
   "outputs": [
    {
     "name": "stdout",
     "output_type": "stream",
     "text": [
      "<class 'str'>\n",
      "<class 'int'>\n",
      "<class 'float'>\n",
      "91\n"
     ]
    }
   ],
   "source": [
    "#How to take input\n",
    "x = input(\"Enter a number: \")\n",
    "print(type(x));\n",
    "\n",
    "x = int(input(\"Enter a number: \"))\n",
    "print(type(x));\n",
    "\n",
    "x = float(input(\"Enter a number: \"))\n",
    "print(type(x));\n",
    "\n",
    "x = int(input(\"Enter a number: \"))\n",
    "y = int(input(\"Enter another number: \"))\n",
    "print(x+y)"
   ]
  },
  {
   "cell_type": "code",
   "execution_count": 3,
   "metadata": {},
   "outputs": [
    {
     "name": "stdout",
     "output_type": "stream",
     "text": [
      "23+4= 27\n",
      "23-4= 19\n",
      "\n"
     ]
    }
   ],
   "source": [
    "#Mathematical Operators\n",
    "x=23\n",
    "y=4\n",
    "print(f\"{x}+{y}= {x+y}\")\n",
    "print(f\"{x}-{y}= {x-y}\")\n",
    "print(f\"\")"
   ]
  }
 ],
 "metadata": {
  "kernelspec": {
   "display_name": "Python 3",
   "language": "python",
   "name": "python3"
  },
  "language_info": {
   "codemirror_mode": {
    "name": "ipython",
    "version": 3
   },
   "file_extension": ".py",
   "mimetype": "text/x-python",
   "name": "python",
   "nbconvert_exporter": "python",
   "pygments_lexer": "ipython3",
   "version": "3.12.7"
  }
 },
 "nbformat": 4,
 "nbformat_minor": 2
}
